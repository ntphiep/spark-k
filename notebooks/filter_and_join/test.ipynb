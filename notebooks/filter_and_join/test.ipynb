{
 "cells": [
  {
   "cell_type": "code",
   "execution_count": 2,
   "metadata": {},
   "outputs": [
    {
     "name": "stderr",
     "output_type": "stream",
     "text": [
      "Setting default log level to \"WARN\".\n",
      "To adjust logging level use sc.setLogLevel(newLevel). For SparkR, use setLogLevel(newLevel).\n",
      "24/08/05 23:43:24 WARN NativeCodeLoader: Unable to load native-hadoop library for your platform... using builtin-java classes where applicable\n"
     ]
    }
   ],
   "source": [
    "from pyspark.sql import SparkSession\n",
    "import time\n",
    "import random\n",
    "\n",
    "spark = SparkSession \\\n",
    "\t\t.builder \\\n",
    "  \t\t.appName(\"Filter and Join\") \\\n",
    "\t\t.master(\"spark://deptrai:7077\") \\\n",
    "    \t.getOrCreate()"
   ]
  },
  {
   "cell_type": "code",
   "execution_count": 14,
   "metadata": {},
   "outputs": [],
   "source": [
    "rdd_A = spark.sparkContext.textFile(\"file:///home/hiep/work/spark-k/data/compare/ex1.txt\") \\\n",
    "\t\t.map(lambda x: (x.split(\",\")[0], x.split(\",\")[1]))\n",
    "\n",
    "rdd_B = spark.sparkContext.textFile(\"file:///home/hiep/work/spark-k/data/compare/ex2.txt\") \\\n",
    "\t\t.map(lambda x: (x.split(\",\")[0], x.split(\",\")[1]))"
   ]
  },
  {
   "cell_type": "code",
   "execution_count": 17,
   "metadata": {},
   "outputs": [],
   "source": [
    "# Approach 1: Join then Filter\n",
    "\n",
    "joined_rdd = rdd_A.join(rdd_B)\n",
    "filter_rdd = joined_rdd.filter(lambda x: x[1][0] <= 5000000 and int(x[1][1][-1]) > 5)\n",
    "\n",
    "# Approcch 2: Filter then Join\n",
    "rdd_A_f = rdd_A.filter(lambda x: x[1] <= 5000000)\n",
    "rdd_B_f = rdd_B.filter(lambda x: int(x[1][-1]) > 5)\n",
    "join_rdd_f = rdd_A_f.join(rdd_B_f)"
   ]
  },
  {
   "cell_type": "code",
   "execution_count": 18,
   "metadata": {},
   "outputs": [
    {
     "name": "stderr",
     "output_type": "stream",
     "text": [
      "[Stage 10:>                                                        (0 + 4) / 14]\r"
     ]
    }
   ],
   "source": [
    "joined_rdd.take(10)"
   ]
  },
  {
   "cell_type": "code",
   "execution_count": 11,
   "metadata": {},
   "outputs": [
    {
     "data": {
      "text/plain": [
       "7"
      ]
     },
     "execution_count": 11,
     "metadata": {},
     "output_type": "execute_result"
    }
   ],
   "source": [
    "rdd_A.getNumPartitions()"
   ]
  }
 ],
 "metadata": {
  "kernelspec": {
   "display_name": "Python 3",
   "language": "python",
   "name": "python3"
  },
  "language_info": {
   "codemirror_mode": {
    "name": "ipython",
    "version": 3
   },
   "file_extension": ".py",
   "mimetype": "text/x-python",
   "name": "python",
   "nbconvert_exporter": "python",
   "pygments_lexer": "ipython3",
   "version": "3.12.4"
  }
 },
 "nbformat": 4,
 "nbformat_minor": 2
}
