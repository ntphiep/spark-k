{
 "cells": [
  {
   "cell_type": "code",
   "execution_count": null,
   "metadata": {},
   "outputs": [],
   "source": [
    "from pyspark.sql import SparkSession\n",
    "import time\n",
    "import random\n",
    "\n",
    "spark = SparkSession \\\n",
    "\t\t.builder \\\n",
    "  \t\t.appName(\"Filter and Join\") \\\n",
    "    \t.getOrCreate()"
   ]
  },
  {
   "cell_type": "code",
   "execution_count": null,
   "metadata": {},
   "outputs": [],
   "source": [
    "rdd_A = spark.sparkContext.textFile(\"file:///home/hiep/work/spark-k/data/compare/ex1.txt\") \\\n",
    "\t\t.map(lambda x: (x.split(\",\")[0], x.split(\",\")[1]))\n",
    "\n",
    "rdd_B = spark.sparkContext.textFile(\"file:///home/hiep/work/spark-k/data/compare/ex2.txt\") \\\n",
    "\t\t.map(lambda x: (x.split(\",\")[0], x.split(\",\")[1]))"
   ]
  },
  {
   "cell_type": "code",
   "execution_count": null,
   "metadata": {},
   "outputs": [],
   "source": [
    "# Approach 1: Join then Filter\n",
    "start_time = time.time()\n",
    "\n",
    "joined_rdd = rdd_A.join(rdd_B)\n",
    "filter_rdd = joined_rdd.filter(lambda x: x[1][0] <= 5000000 and int(x[1][1][-1]) > 5)\n",
    "\n",
    "t1 = time.time() - start_time\n",
    "\n",
    "\n",
    "print(\"Approach 1 result:\", filter_rdd.collect())\n",
    "print(\"Approach 1 time:\", t1)\n"
   ]
  },
  {
   "cell_type": "code",
   "execution_count": null,
   "metadata": {},
   "outputs": [],
   "source": [
    "# Approcch 2: Filter then Join\n",
    "\n",
    "\n",
    "\n",
    "rdd_A_f = rdd_A.filter(lambda x: x[1] <= 5000000)\n",
    "rdd_B_f = rdd_B.filter(lambda x: int(x[1][-1]) > 5)\n",
    "join_rdd_f = rdd_A_f.join(rdd_B_f)"
   ]
  },
  {
   "cell_type": "code",
   "execution_count": null,
   "metadata": {},
   "outputs": [],
   "source": [
    "joined_rdd.take(10)"
   ]
  },
  {
   "cell_type": "code",
   "execution_count": null,
   "metadata": {},
   "outputs": [],
   "source": [
    "rdd_A.getNumPartitions()"
   ]
  }
 ],
 "metadata": {
  "kernelspec": {
   "display_name": "Python 3",
   "language": "python",
   "name": "python3"
  },
  "language_info": {
   "codemirror_mode": {
    "name": "ipython",
    "version": 3
   },
   "file_extension": ".py",
   "mimetype": "text/x-python",
   "name": "python",
   "nbconvert_exporter": "python",
   "pygments_lexer": "ipython3",
   "version": "3.12.4"
  }
 },
 "nbformat": 4,
 "nbformat_minor": 2
}
